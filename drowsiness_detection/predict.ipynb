{
 "cells": [
  {
   "cell_type": "markdown",
   "metadata": {},
   "source": [
    "### Running predictions"
   ]
  },
  {
   "cell_type": "code",
   "execution_count": 7,
   "metadata": {},
   "outputs": [],
   "source": [
    "import json\n",
    "import requests\n",
    "import cv2\n",
    "import numpy as np\n",
    "from numpy import asarray\n",
    "import pandas as pd\n",
    "import tensorflow as tf\n",
    "import mediapipe as mp\n",
    "import os\n",
    "import csv\n",
    "from tensorflow.keras.losses import SparseCategoricalCrossentropy\n",
    "from tensorflow.keras.optimizers import Adam\n",
    "import time\n",
    "from PIL import Image\n",
    " "
   ]
  },
  {
   "cell_type": "code",
   "execution_count": 8,
   "metadata": {},
   "outputs": [],
   "source": [
    "def make_prediction(model_path, labels, csv_file):\n",
    "    my_model = tf.keras.models.load_model(model_path, compile=True)\n",
    "    my_model.compile(loss=SparseCategoricalCrossentropy(), optimizer=Adam(), metrics=[\"accuracy\"])\n",
    "    predictions = {n: 0 for n in labels}\n",
    "\n",
    "    # ! THIS WILL SKIP THE FIRST ROW UNLESS I WRITER header = None, which explains why I had an empty array\n",
    "    csv = pd.read_csv(csv_file, header = None)\n",
    "    # print(csv)\n",
    "    # # nevermind, I want to predict for each frame.\n",
    "    coords = np.array(csv)\n",
    "    # print(\"Hello\", coords.shape)\n",
    "    # coords = coords\n",
    "    # # print(coords.shape)\n",
    "    # for frame in coords:\n",
    "    #     print(\"HI\")\n",
    "    #     print(frame)\n",
    "\n",
    "    # coords.reshape((None, 36))\n",
    "\n",
    "    # so yea, this is going to iterate once.\n",
    "    # for frame in coords:\n",
    "    #     new_frame = tf.expand_dims(frame,0)\n",
    "    #     preds = my_model.predict(new_frame)\n",
    "    #     pred_value = np.argmax(preds)\n",
    "    #     for i in range(len(preds[0])):\n",
    "    #         print(preds[0][i])\n",
    "    #         predictions[saved_classes[i]] += preds[0][i]\n",
    "    #         total += preds[0][i]\n",
    "    #     predictions[labels[pred_value]] += 1\n",
    "    #     print(preds)\n",
    "    \n",
    "    # since I am not looping through multiple frame (i only have 1) then I will simply take the first value\n",
    "    new_frame = tf.expand_dims(coords[0],0)\n",
    "    preds = my_model.predict(new_frame)\n",
    "    pred_value = np.argmax(preds)\n",
    "    # final_prediction = max(predictions, key=predictions.get)\n",
    "    return labels[pred_value]"
   ]
  },
  {
   "cell_type": "code",
   "execution_count": 9,
   "metadata": {},
   "outputs": [],
   "source": [
    "def predict_eye(file_name):\n",
    "    MODEL_PATH = r\"D:\\Personnel\\Other learning\\Programming\\Personal_projects\\3_Hackathons_with_buddies\\MAKEUOFT2024\\drowsiness_detection\\best_models\\eye\\model.133-0.99\"\n",
    "    # predictions, final_prediction = \n",
    "    final_prediction = make_prediction(MODEL_PATH, [\"closed\", \"open\"], file_name)\n",
    "    # final_prediction is either 0 or 1\n",
    "    return final_prediction"
   ]
  },
  {
   "cell_type": "code",
   "execution_count": 10,
   "metadata": {},
   "outputs": [],
   "source": [
    "def predict_yawn(file_name):\n",
    "    MODEL_PATH = r\"D:\\Personnel\\Other learning\\Programming\\Personal_projects\\3_Hackathons_with_buddies\\MAKEUOFT2024\\drowsiness_detection\\best_models\\yawn\\model.139-0.90\"\n",
    "    final_prediction = make_prediction(MODEL_PATH, [\"no_yawn\", \"yawn\"], file_name)\n",
    "    return final_prediction"
   ]
  },
  {
   "cell_type": "code",
   "execution_count": 11,
   "metadata": {},
   "outputs": [
    {
     "name": "stdout",
     "output_type": "stream",
     "text": [
      "1/1 [==============================] - 0s 129ms/step\n",
      "1/1 [==============================] - 0s 119ms/step\n",
      "open yawn\n"
     ]
    }
   ],
   "source": [
    "final_prediction_eye = predict_eye(\"eye.csv\")\n",
    "final_prediction_yawn = predict_yawn(\"yawn.csv\")\n",
    "\n",
    "print(final_prediction_eye, final_prediction_yawn)\n",
    "\n",
    "# writing the values for prediction into a json file\n",
    "with open(\"predictions.json\", mode='a') as f:\n",
    "    f.truncate(0)\n",
    "    json.dump([final_prediction_eye, final_prediction_yawn], f)"
   ]
  }
 ],
 "metadata": {
  "kernelspec": {
   "display_name": "ASL_env",
   "language": "python",
   "name": "python3"
  },
  "language_info": {
   "codemirror_mode": {
    "name": "ipython",
    "version": 3
   },
   "file_extension": ".py",
   "mimetype": "text/x-python",
   "name": "python",
   "nbconvert_exporter": "python",
   "pygments_lexer": "ipython3",
   "version": "3.8.16"
  }
 },
 "nbformat": 4,
 "nbformat_minor": 2
}
