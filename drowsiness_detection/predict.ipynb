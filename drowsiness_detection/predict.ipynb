{
 "cells": [
  {
   "cell_type": "markdown",
   "metadata": {},
   "source": [
    "### Running predictions"
   ]
  },
  {
   "cell_type": "code",
   "execution_count": null,
   "metadata": {},
   "outputs": [],
   "source": [
    "def make_prediction(model_path, labels, csv_file):\n",
    "    my_model = tf.keras.models.load_model(model_path, compile=False)\n",
    "    my_model.compile(loss=SparseCategoricalCrossentropy(), optimizer=Adam(), metrics=[\"accuracy\"])\n",
    "    predictions = {n: 0 for n in labels}\n",
    "    csv = pd.read_csv(csv_file)\n",
    "    # print(csv)\n",
    "    # nevermind, I want to predict for each frame.\n",
    "    coords = np.array(csv)\n",
    "\n",
    "    # so yea, this is going to iterate once.\n",
    "    for frame in coords:\n",
    "        new_frame = tf.expand_dims(frame,0)\n",
    "        preds = my_model.predict(new_frame)\n",
    "        pred_value = np.argmax(preds)\n",
    "        # for i in range(len(preds[0])):\n",
    "        #     print(preds[0][i])\n",
    "        #     predictions[saved_classes[i]] += preds[0][i]\n",
    "        #     total += preds[0][i]\n",
    "        predictions[labels[pred_value]] += 1\n",
    "        # print(preds)\n",
    "    final_prediction = max(predictions, key=predictions.get)\n",
    "    return predictions, final_prediction"
   ]
  },
  {
   "cell_type": "code",
   "execution_count": null,
   "metadata": {},
   "outputs": [],
   "source": [
    "MODEL_PATH = r\"D:\\Personnel\\Other learning\\Programming\\Personal_projects\\3_Hackathons_with_buddies\\MAKEUOFT2024\\drowsiness_detection\\best_models\\eye\\model.114-0.94\"\n",
    "def predict_eye(file_name):\n",
    "    predictions, final_prediction = make_prediction(MODEL_PATH, [\"closed\", \"open\"], file_name)\n",
    "    # final_prediction is either 0 or 1\n",
    "    return final_prediction"
   ]
  },
  {
   "cell_type": "code",
   "execution_count": null,
   "metadata": {},
   "outputs": [],
   "source": [
    "MODEL_PATH = r\"D:\\Personnel\\Other learning\\Programming\\Personal_projects\\3_Hackathons_with_buddies\\MAKEUOFT2024\\drowsiness_detection\\best_models\\yawn\\model.07-0.95\"\n",
    "def predict_yawn(file_name):\n",
    "    predictions, final_prediction = make_prediction(MODEL_PATH, [\"no_yawn\", \"yawn\"], file_name)\n",
    "    return final_prediction"
   ]
  }
 ],
 "metadata": {
  "language_info": {
   "name": "python"
  }
 },
 "nbformat": 4,
 "nbformat_minor": 2
}
